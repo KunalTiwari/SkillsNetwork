{
 "cells": [
  {
   "cell_type": "markdown",
   "id": "fdf04f17-8af3-40bb-a9e5-4d392445ef88",
   "metadata": {},
   "source": [
    "# Data Science Tools and Ecosystem"
   ]
  },
  {
   "cell_type": "markdown",
   "id": "8b7f9042-ebc8-41b0-be0b-65b56ebf6ebc",
   "metadata": {},
   "source": [
    "## Author\n",
    "\n",
    "Kunal Tiwari."
   ]
  },
  {
   "cell_type": "markdown",
   "id": "b270c938-f41e-4434-8593-834d3aabb17e",
   "metadata": {},
   "source": [
    "In this notebook, Data Science tools and Exosystem are summarised."
   ]
  },
  {
   "cell_type": "markdown",
   "id": "9f548864-4c4b-435e-9d82-7114285f45a9",
   "metadata": {},
   "source": [
    "## Objectives:\n",
    "\n",
    "- List popular languages for Data Science.\n",
    "- Explain the basics of Python programming language.\n",
    "- Introduce Data Science tools such as Jupyter Notebook and NumPy.\n",
    "- Describe the different types of data and their characteristics.\n",
    "- Provide an overview of data cleaning and preparation techniques."
   ]
  },
  {
   "cell_type": "markdown",
   "id": "ebd6293c-026b-4dc0-a45b-4a850add240e",
   "metadata": {},
   "source": [
    "Some of the popular langauges that Data Scientist use are:\n",
    "1. Python \n",
    "2. R \n",
    "3. SQL\n",
    "4. Java"
   ]
  },
  {
   "cell_type": "markdown",
   "id": "63d2bdf5-3b74-4b2b-b30e-4921153bf983",
   "metadata": {},
   "source": [
    "Some of the commonly used libraries used by data scientist include:\n",
    "\n",
    "    1. pandas\n",
    "    2. numPY\n",
    "    3. sciPY\n",
    "    4. Dplyr"
   ]
  },
  {
   "cell_type": "markdown",
   "id": "fde9cca2-144e-4348-a5b2-247eed39f522",
   "metadata": {},
   "source": [
    "| Data Science Tools |\n",
    "| ------------------ |\n",
    "| Jupyter Notebook   |\n",
    "| RStudio            |\n",
    "| Apache Spark       |"
   ]
  },
  {
   "cell_type": "markdown",
   "id": "659bd731-31d0-4248-be31-c669656e6290",
   "metadata": {},
   "source": []
  },
  {
   "cell_type": "code",
   "execution_count": 17,
   "id": "8cbf2983-e578-4027-ba48-1d936f2cdb40",
   "metadata": {},
   "outputs": [
    {
     "data": {
      "text/plain": [
       "1"
      ]
     },
     "execution_count": 17,
     "metadata": {},
     "output_type": "execute_result"
    }
   ],
   "source": [
    "# Below are a few examples of evaluating arithmetic expressions in Python.\n",
    "2 + 3\n",
    "3-2"
   ]
  },
  {
   "cell_type": "code",
   "execution_count": 11,
   "id": "ea5d200e-b9f3-4f35-b940-50311c540065",
   "metadata": {},
   "outputs": [
    {
     "data": {
      "text/plain": [
       "17"
      ]
     },
     "execution_count": 11,
     "metadata": {},
     "output_type": "execute_result"
    }
   ],
   "source": [
    "# This is an simple arrithematic expression to multiply and then add integers\n",
    "(3*4)+5\n"
   ]
  },
  {
   "cell_type": "code",
   "execution_count": 12,
   "id": "9636ce68-d9ce-4df9-bd35-afa42a2f74c3",
   "metadata": {},
   "outputs": [
    {
     "data": {
      "text/plain": [
       "3.3333333333333335"
      ]
     },
     "execution_count": 12,
     "metadata": {},
     "output_type": "execute_result"
    }
   ],
   "source": [
    "# This is an example of converting minutes to hours.\n",
    "200/60"
   ]
  },
  {
   "cell_type": "markdown",
   "id": "77306e8f-54ec-4b2a-a821-505be73aa6cd",
   "metadata": {},
   "source": []
  }
 ],
 "metadata": {
  "kernelspec": {
   "display_name": "Python 3 (ipykernel)",
   "language": "python",
   "name": "python3"
  },
  "language_info": {
   "codemirror_mode": {
    "name": "ipython",
    "version": 3
   },
   "file_extension": ".py",
   "mimetype": "text/x-python",
   "name": "python",
   "nbconvert_exporter": "python",
   "pygments_lexer": "ipython3",
   "version": "3.9.13"
  }
 },
 "nbformat": 4,
 "nbformat_minor": 5
}
